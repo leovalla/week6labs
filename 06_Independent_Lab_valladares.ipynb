{
 "cells": [
  {
   "cell_type": "markdown",
   "id": "ed283e26-e3c0-4d51-bef4-a42e968b1c30",
   "metadata": {},
   "source": [
    "# Week 6 Independent lab\n",
    "\n",
    "**Course Information:**  Graduate Introduction to Python, BGEN 632\n",
    "\n",
    "**Notebook Author Name:** Leo Valladares\n",
    "\n",
    "**Submission Date:**  2025/04/07\n",
    "\n",
    "**Description:** This system will allow you to add students, view GPA metrics, and assign academic violations."
   ]
  },
  {
   "cell_type": "markdown",
   "id": "affa4082-b0ee-4e9b-9a9d-57776d7ec1b0",
   "metadata": {},
   "source": [
    "## Import Modules"
   ]
  },
  {
   "cell_type": "code",
   "execution_count": 2,
   "id": "c7e323a0-5837-4281-a41d-1909d6f2f73d",
   "metadata": {},
   "outputs": [],
   "source": [
    "import random as rand\n",
    "import array as arr"
   ]
  },
  {
   "cell_type": "markdown",
   "id": "78b833ba-6741-499e-a4a3-422ea389e249",
   "metadata": {},
   "source": [
    "## Create Variables"
   ]
  },
  {
   "cell_type": "code",
   "execution_count": 5,
   "id": "2ed59192-f930-4215-b6e4-0baeec6063d7",
   "metadata": {},
   "outputs": [],
   "source": [
    "student_name = [\n",
    "    \"Carmen Berzatto\",\n",
    "    \"Sydney Adamu\",\n",
    "    \"Neil Fak\",\n",
    "    \"Marcus Brooks\"\n",
    "]\n",
    "academic_violations = [\n",
    "    \"Copying homework\", \n",
    "    \"Cheating on exam\", \n",
    "    \"Plagiarism\", \n",
    "    \"Cheating on quiz\", \n",
    "    \"Writing paper for another student\",\n",
    "    \"None\"\n",
    "]\n",
    "student_major = [\n",
    "    \"Sociology\",\n",
    "    \"Computer Science\",\n",
    "    \"Music\",\n",
    "    \"Engineering\"\n",
    "]\n",
    "student_gpa = [4,\n",
    "               3.56,\n",
    "               3.78,\n",
    "               3.95\n",
    "              ]\n",
    "student_violation = [\n",
    "    \"Copying homework\",\n",
    "    \"None\",\n",
    "    \"Cheating on quiz\",\n",
    "    \"None\"    \n",
    "]\n",
    "completed = 0\n",
    "check_input = 0   # used to evaluate user input on the main list \n",
    "\n",
    "\n",
    "first_name = \"\"\n",
    "last_name = \"\"\n",
    "major = \"\"\n",
    "gpa = 0\n",
    "name = \"\"\n",
    "confirm_input = \"\"\n",
    "check_input_2 = 0 # used to evaluate user input in the student data entry\n"
   ]
  },
  {
   "cell_type": "markdown",
   "id": "fb66d4f8-585b-4285-9f89-6da73c973c28",
   "metadata": {},
   "source": [
    "## Main code"
   ]
  },
  {
   "cell_type": "code",
   "execution_count": 10,
   "id": "149de61a-f363-4f37-a4aa-22ef47998dd7",
   "metadata": {},
   "outputs": [
    {
     "name": "stdout",
     "output_type": "stream",
     "text": [
      "Welcome to the student management system version: beta_0.01\n"
     ]
    },
    {
     "name": "stdin",
     "output_type": "stream",
     "text": [
      "\n",
      "Please choose one option from the list below (Your input should be a number):\n",
      "1. Student Information Query\n",
      "2. Student Information Entry\n",
      "3. Query GPA Metrics\n",
      "4. Academic Violations\n",
      "5. Quit Program\n",
      " 1\n"
     ]
    },
    {
     "name": "stdout",
     "output_type": "stream",
     "text": [
      "\n",
      "Student's list:\n",
      "No.  Name                     Major                         GPA     Violation\n",
      "----------------------------------------------------------------------------------------------------\n",
      "1    Carmen Berzatto          Sociology                     4.00    Copying homework\n",
      "2    Sydney Adamu             Computer Science              3.56    None\n",
      "3    Neil Fak                 Music                         3.78    Cheating on quiz\n",
      "4    Marcus Brooks            Engineering                   3.95    None\n"
     ]
    },
    {
     "name": "stdin",
     "output_type": "stream",
     "text": [
      "\n",
      "Please choose one option from the list below (Your input should be a number):\n",
      "1. Student Information Query\n",
      "2. Student Information Entry\n",
      "3. Query GPA Metrics\n",
      "4. Academic Violations\n",
      "5. Quit Program\n",
      " 2\n"
     ]
    },
    {
     "name": "stdout",
     "output_type": "stream",
     "text": [
      "\n",
      "Student Information Entry\n"
     ]
    },
    {
     "name": "stdin",
     "output_type": "stream",
     "text": [
      "Enter student first name: Leo\n",
      "Enter student Last name: \n",
      "Enter student Major: Eng\n",
      "Enter student GPA: 4.0\n"
     ]
    },
    {
     "name": "stdout",
     "output_type": "stream",
     "text": [
      "\n",
      "You entered:\n",
      "Student name: Leo \n",
      "Student major: Eng\n",
      "Student GPA: 4.0\n",
      "\n"
     ]
    },
    {
     "name": "stdin",
     "output_type": "stream",
     "text": [
      "Press 'y' to confirm that your input is right N\n"
     ]
    },
    {
     "name": "stdout",
     "output_type": "stream",
     "text": [
      "Enter student data again:\n",
      "\n"
     ]
    },
    {
     "name": "stdin",
     "output_type": "stream",
     "text": [
      "Enter student first name: Leo\n",
      "Enter student Last name: Valladares\n",
      "Enter student Major: Data Science\n",
      "Enter student GPA: 4.0\n"
     ]
    },
    {
     "name": "stdout",
     "output_type": "stream",
     "text": [
      "\n",
      "You entered:\n",
      "Student name: Leo Valladares\n",
      "Student major: Data science\n",
      "Student GPA: 4.0\n",
      "\n"
     ]
    },
    {
     "name": "stdin",
     "output_type": "stream",
     "text": [
      "Press 'y' to confirm that your input is right y\n",
      "\n",
      "Please choose one option from the list below (Your input should be a number):\n",
      "1. Student Information Query\n",
      "2. Student Information Entry\n",
      "3. Query GPA Metrics\n",
      "4. Academic Violations\n",
      "5. Quit Program\n",
      " 3\n"
     ]
    },
    {
     "name": "stdout",
     "output_type": "stream",
     "text": [
      "\n",
      "GPA Metrics\n",
      "Max GPA = 4\n",
      "\n",
      "Min GPA = 3.56\n",
      "\n",
      "Average GPA = 3.858\n"
     ]
    },
    {
     "name": "stdin",
     "output_type": "stream",
     "text": [
      "\n",
      "Please choose one option from the list below (Your input should be a number):\n",
      "1. Student Information Query\n",
      "2. Student Information Entry\n",
      "3. Query GPA Metrics\n",
      "4. Academic Violations\n",
      "5. Quit Program\n",
      " 4\n"
     ]
    },
    {
     "name": "stdout",
     "output_type": "stream",
     "text": [
      "\n",
      "Academic Violations\n",
      "1. Carmen Berzatto: Current student violation = Copying homework\n",
      "2. Sydney Adamu: Current student violation = None\n",
      "3. Neil Fak: Current student violation = Cheating on quiz\n",
      "4. Marcus Brooks: Current student violation = None\n",
      "5. Leo Valladares: Current student violation = None\n"
     ]
    },
    {
     "name": "stdin",
     "output_type": "stream",
     "text": [
      "Select a student from the list (Your input should be a number):\n",
      " 5\n"
     ]
    },
    {
     "name": "stdout",
     "output_type": "stream",
     "text": [
      "Select the violation to be introduced (Your input should be a number):\n",
      "\n",
      "1. Copying homework\n",
      "\n",
      "2. Cheating on exam\n",
      "\n",
      "3. Plagiarism\n",
      "\n",
      "4. Cheating on quiz\n",
      "\n",
      "5. Writing paper for another student\n",
      "\n",
      "6. None\n",
      "\n"
     ]
    },
    {
     "name": "stdin",
     "output_type": "stream",
     "text": [
      " 3\n"
     ]
    },
    {
     "name": "stdout",
     "output_type": "stream",
     "text": [
      "\n",
      "You entered:\n",
      "Student name: Leo Valladares\n",
      "Academic violation: Plagiarism\n",
      "\n"
     ]
    },
    {
     "name": "stdin",
     "output_type": "stream",
     "text": [
      "Enter 'y' to confirm that your input is right y\n",
      "\n",
      "Please choose one option from the list below (Your input should be a number):\n",
      "1. Student Information Query\n",
      "2. Student Information Entry\n",
      "3. Query GPA Metrics\n",
      "4. Academic Violations\n",
      "5. Quit Program\n",
      " 5\n"
     ]
    },
    {
     "name": "stdout",
     "output_type": "stream",
     "text": [
      "\n",
      "Thank you for using the program\n",
      "Have a good day\n"
     ]
    }
   ],
   "source": [
    "# This loop manages all the interactions with the \n",
    "print(\"Welcome to the student management system version: beta_0.01\")\n",
    "while completed == 0: \n",
    "\n",
    "    # This loop provides the option to the user and checks the input value\n",
    "    while check_input == 0:    \n",
    "        # The if statement checks if this is the first question\n",
    "        selection = input(\"\\nPlease choose one option from the list below (Your input should be a number):\\n\" +\n",
    "                          \"1. Student Information Query\\n\" +\n",
    "                          \"2. Student Information Entry\\n\" + \n",
    "                          \"3. Query GPA Metrics\\n\" +\n",
    "                          \"4. Academic Violations\\n\" +\n",
    "                          \"5. Quit Program\\n\")\n",
    "        # Catch wrong inputs\n",
    "        try:\n",
    "            selection = int(selection)  # Convert input to integer\n",
    "            if selection > 0 and selection < 6:\n",
    "                check_input = 1\n",
    "            else:\n",
    "                print(\"Invalid input. Please enter a number from 1 to 5.\\n\")\n",
    "        except ValueError:\n",
    "            print(\"Invalid input. Please enter a number from 1 to 5.\\n\")\n",
    "            \n",
    "    # The if statement is used to evaluate the user selection and act based on it\n",
    "    if selection == 1:\n",
    "        # Student Information Query\n",
    "        print(\"\\nStudent's list:\")\n",
    "\n",
    "        print(f\"{'No.':<5}{'Name':<25}{'Major':<30}{'GPA':<8}{'Violation'}\")\n",
    "        print(\"-\" * 100)\n",
    "\n",
    "        for j in range(len(student_name)):\n",
    "            print(f\"{j + 1:<5}{student_name[j]:<25}{student_major[j]:<30}{student_gpa[j]:<8.2f}{student_violation[j]}\")\n",
    "\n",
    "    elif selection == 2:\n",
    "        # Reset variable\n",
    "        check_input_2 = 0\n",
    "        \n",
    "        # Student Information Entry \n",
    "        print(\"\\nStudent Information Entry\")\n",
    "        \n",
    "        # This loop is used to evaluate the data that the user input\n",
    "        while check_input_2 == 0:\n",
    "            first_name = input(\"Enter student first name:\").capitalize()\n",
    "            last_name = input(\"Enter student Last name:\").title()\n",
    "            major = input(\"Enter student Major:\").capitalize()\n",
    "            gpa = float(input(\"Enter student GPA:\"))\n",
    "            name = first_name + \" \" + last_name\n",
    "    \n",
    "            # check user input\n",
    "            print(\"\\n\" + \"You entered:\\n\" +\n",
    "                 f\"Student name: {name}\\n\" + \n",
    "                 f\"Student major: {major}\\n\" +\n",
    "                 f\"Student GPA: {gpa}\\n\" \n",
    "                 )\n",
    "            \n",
    "            # Request user confirmation\n",
    "            confirm_input = input(\"Enter 'y' to confirm that your input is right\").lower()\n",
    "            if confirm_input == \"y\" :\n",
    "                check_input_2 = 1\n",
    "                # adds new student data\n",
    "                student_name.append(name)\n",
    "                student_major.append(major)\n",
    "                student_gpa.append(gpa)\n",
    "                student_violation.append(\"None\")               \n",
    "                                \n",
    "            else: \n",
    "                print(\"Enter student data again:\\n\")\n",
    "    \n",
    "    elif selection == 3:\n",
    "        # Reset GPA statistics\n",
    "        max_gpa = 0\n",
    "        min_gpa = 5\n",
    "        ave_gpa = 0\n",
    "        gpa_sum = 0\n",
    "        # This loop is used to calculate the statistics\n",
    "        for i in range(len(student_name)):         \n",
    "            # calculates Max GPA\n",
    "            if max_gpa < student_gpa[i]:\n",
    "                max_gpa = student_gpa[i]\n",
    "                \n",
    "            #Calculates Min GPA\n",
    "            if min_gpa > student_gpa[i]: \n",
    "                min_gpa = student_gpa[i]\n",
    "\n",
    "            # Sums all the student's GPAs\n",
    "            gpa_sum = gpa_sum + student_gpa[i]\n",
    "\n",
    "        # Calculates Average GPA \n",
    "        ave_gpa = round(gpa_sum/len(student_name),3)\n",
    "\n",
    "        print(\"\\nGPA Metrics\")\n",
    "        print(f\"Max GPA = {max_gpa}\\n\")   \n",
    "        print(f\"Min GPA = {min_gpa}\\n\") \n",
    "        print(f\"Average GPA = {ave_gpa}\") \n",
    "    \n",
    "    elif selection == 4:\n",
    "        # Reset variables\n",
    "        student = 0\n",
    "        student_input = \"\"\n",
    "        violation = 0\n",
    "        violation_input = \"\"\n",
    "        check_input_3 = 0\n",
    "        check_input_4 = 0\n",
    "        check_input_5 = 0\n",
    "        \n",
    "        # Academic \n",
    "        print(\"\\nAcademic Violations\")\n",
    "\n",
    "        # This loop provides the options for the user\n",
    "        while check_input_3 == 0:\n",
    "            \n",
    "            #print(\"Select a student from the list (Your input should be a number):\\n\")            \n",
    "            # This loop checks for valid student input\n",
    "            while check_input_4 == 0:\n",
    "                for j in range(len(student_name)):\n",
    "                    print(f\"{j + 1}. {student_name[j]}: Current student violation = {student_violation[j]}\")\n",
    "                student_input = input(\"Select a student from the list (Your input should be a number):\\n\")\n",
    "                # Catch wrong inputs\n",
    "                try:\n",
    "                    student = int(student_input) - 1  \n",
    "                    if student >= 0 and student < len(student_name):\n",
    "                        check_input_4 = 1\n",
    "                    else:\n",
    "                        print(f\"Invalid input. Please enter a number from 1 to {len(student_name)}.\\n\")\n",
    "                except ValueError:\n",
    "                    print(f\"Invalid input. 2 Please enter a number from 1 to {len(student_name)}.\\n\")\n",
    "    \n",
    "            print(\"Select the violation to be introduced (Your input should be a number):\\n\")\n",
    "            # This loop checks for valid violation input\n",
    "            while check_input_5 == 0:                \n",
    "                for j in range(len(academic_violations)):\n",
    "                    print(f\"{j + 1}. {academic_violations[j]}\\n\")\n",
    "                    \n",
    "                violation_input = input(\"\")\n",
    "                # Catch wrong inputs\n",
    "                try:\n",
    "                    violation = int(violation_input) - 1 \n",
    "                    if violation  >= 0 and violation < len(academic_violations):\n",
    "                        check_input_5 = 1\n",
    "                    else:\n",
    "                        print(f\"Invalid input. Please enter a number from 1 to {len(academic_violations)}.\\n\")\n",
    "                except ValueError:\n",
    "                    print(f\"Invalid input. 2 Please enter a number from 1 to {len(academic_violations)}.\\n\")\n",
    "    \n",
    "            # check user input\n",
    "            print(\"\\nYou entered:\\n\" +\n",
    "                  f\"Student name: {student_name[student]}\\n\" + \n",
    "                  f\"Academic violation: {academic_violations[violation]}\\n\"\n",
    "                  )\n",
    "    \n",
    "            # Request user confirmation\n",
    "            confirm_input = input(\"Enter 'y' to confirm that your input is right\").lower()\n",
    "            if confirm_input == \"y\" :\n",
    "                check_input_3 = 1\n",
    "                # adds new student data\n",
    "                student_violation.insert(student, academic_violations[violation])\n",
    "    \n",
    "    else:\n",
    "        # Quit Program\n",
    "        completed = 1\n",
    "        \n",
    "    check_input = 0 # reset the variable\n",
    "    check_input_2 = 0\n",
    "    \n",
    "print(\"\\nThank you for using the program\\n\" + \n",
    "     \"Have a good day\")    "
   ]
  },
  {
   "cell_type": "markdown",
   "id": "9b750349-c9e7-4ecb-86df-590c114889a1",
   "metadata": {},
   "source": [
    "## References\n",
    "\n",
    "OpenAI. (2025). ChatGPT (GPT-4.0) [Large language model]. https://chatgpt.com/share/67f1a7bc-a95c-8000-ae0d-703b8260eee4  \n",
    "    This chatbot helped to understand how to check if the user input was valid. \n"
   ]
  },
  {
   "cell_type": "code",
   "execution_count": null,
   "id": "f43f3d7e-c971-4919-8900-d712d172b5af",
   "metadata": {},
   "outputs": [],
   "source": []
  }
 ],
 "metadata": {
  "kernelspec": {
   "display_name": "Python [conda env:base] *",
   "language": "python",
   "name": "conda-base-py"
  },
  "language_info": {
   "codemirror_mode": {
    "name": "ipython",
    "version": 3
   },
   "file_extension": ".py",
   "mimetype": "text/x-python",
   "name": "python",
   "nbconvert_exporter": "python",
   "pygments_lexer": "ipython3",
   "version": "3.12.7"
  }
 },
 "nbformat": 4,
 "nbformat_minor": 5
}
