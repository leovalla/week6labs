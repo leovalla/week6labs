{
 "cells": [
  {
   "cell_type": "markdown",
   "id": "ed283e26-e3c0-4d51-bef4-a42e968b1c30",
   "metadata": {},
   "source": [
    "# Week 6 Independent lab\n",
    "\n",
    "**Course Information:**  Graduate Introduction to Python, BGEN 632\n",
    "\n",
    "**Notebook Author Name:** Leo Valladares\n",
    "\n",
    "**Submission Date:**  2025/04/05\n",
    "\n",
    "**Description:** This system will allow you to add students, view GPA metrics, and assign academic violations."
   ]
  },
  {
   "cell_type": "markdown",
   "id": "affa4082-b0ee-4e9b-9a9d-57776d7ec1b0",
   "metadata": {},
   "source": [
    "## Import Modules"
   ]
  },
  {
   "cell_type": "code",
   "execution_count": 2,
   "id": "c7e323a0-5837-4281-a41d-1909d6f2f73d",
   "metadata": {},
   "outputs": [],
   "source": [
    "import random as rand\n",
    "import array as arr"
   ]
  },
  {
   "cell_type": "markdown",
   "id": "78b833ba-6741-499e-a4a3-422ea389e249",
   "metadata": {},
   "source": [
    "## Create Variables"
   ]
  },
  {
   "cell_type": "code",
   "execution_count": 5,
   "id": "2ed59192-f930-4215-b6e4-0baeec6063d7",
   "metadata": {},
   "outputs": [],
   "source": [
    "student_name = [\n",
    "    \"Carmen Berzatto\",\n",
    "    \"Sydney Adamu\",\n",
    "    \"Neil Fak\",\n",
    "    \"Marcus Brooks\"\n",
    "]\n",
    "academin_violations = [\n",
    "    \"Copying homework\", \n",
    "    \"Cheating on exam\", \n",
    "    \"Plagiarism\", \n",
    "    \"Cheating on quiz\", \n",
    "    \"Writing paper for another student\",\n",
    "    \"None\"\n",
    "]\n",
    "student_major = [\n",
    "    \"Sociology\",\n",
    "    \"Computer Science\",\n",
    "    \"Music\",\n",
    "    \"Engineering\"\n",
    "]\n",
    "student_gpa = [4,\n",
    "               3.56,\n",
    "               3.78,\n",
    "               3.95\n",
    "              ]\n",
    "student_violation = [\n",
    "    \"Copying homework\",\n",
    "    \"None\",\n",
    "    \"Cheating on quiz\",\n",
    "    \"None\"    \n",
    "]\n",
    "completed = 0\n",
    "check_input = 0   # used to evaluate user input on the main list \n",
    "\n",
    "\n",
    "first_name = \"\"\n",
    "last_name = \"\"\n",
    "major = \"\"\n",
    "gpa = 0\n",
    "name = \"\"\n",
    "confirm_input = \"\"\n",
    "check_input_2 = 0 # used to evaluate user input in the student data entry\n"
   ]
  },
  {
   "cell_type": "markdown",
   "id": "fb66d4f8-585b-4285-9f89-6da73c973c28",
   "metadata": {},
   "source": [
    "## Codigo"
   ]
  },
  {
   "cell_type": "code",
   "execution_count": 17,
   "id": "149de61a-f363-4f37-a4aa-22ef47998dd7",
   "metadata": {},
   "outputs": [
    {
     "name": "stdout",
     "output_type": "stream",
     "text": [
      "Student Information Entry\n"
     ]
    },
    {
     "name": "stdin",
     "output_type": "stream",
     "text": [
      "Enter student first name: leo\n",
      "Enter student Last name: valladares\n",
      "Enter student Major: Eng\n",
      "Enter student GPA: 4.0\n"
     ]
    },
    {
     "name": "stdout",
     "output_type": "stream",
     "text": [
      "\n",
      "You entered:\n",
      "Student name: Leo Valladares\n",
      "Student major: Eng\n",
      "Student GPA: 4.0\n",
      "\n"
     ]
    },
    {
     "name": "stdin",
     "output_type": "stream",
     "text": [
      "Press 'y' to confirm that your input is right y\n",
      "Please choose one option from the list below (Your input should be a number):\n",
      "1. Student Information Query\n",
      "2. Student Information Entry\n",
      "3. Query GPA Metrics\n",
      "4. Academic Violations\n",
      "5. Quit Program\n",
      " 1\n"
     ]
    },
    {
     "name": "stdout",
     "output_type": "stream",
     "text": [
      "Student's list:\n",
      "1. Carmen Berzatto: GPA = 4, Violation = Copying homework\n",
      "2. Sydney Adamu: GPA = 3.56, Violation = None\n",
      "3. Neil Fak: GPA = 3.78, Violation = Cheating on quiz\n",
      "4. Marcus Brooks: GPA = 3.95, Violation = None\n",
      "5. Leo Valladares: GPA = 4.0, Violation = None\n"
     ]
    },
    {
     "name": "stdin",
     "output_type": "stream",
     "text": [
      "Please choose one option from the list below (Your input should be a number):\n",
      "1. Student Information Query\n",
      "2. Student Information Entry\n",
      "3. Query GPA Metrics\n",
      "4. Academic Violations\n",
      "5. Quit Program\n",
      " 5\n"
     ]
    },
    {
     "name": "stdout",
     "output_type": "stream",
     "text": [
      "All done\n"
     ]
    }
   ],
   "source": [
    "# This loop manages all the interactions with the user\n",
    "completed = 0 # just for testing - remove in the final version \n",
    "while completed == 0: \n",
    "\n",
    "    # This loop provides the option to the user and checks the input value\n",
    "    while check_input == 0:    \n",
    "        # The if statement checks if this is the first question\n",
    "        selection = input(\"Please choose one option from the list below (Your input should be a number):\\n\" +\n",
    "                          \"1. Student Information Query\\n\" +\n",
    "                          \"2. Student Information Entry\\n\" + \n",
    "                          \"3. Query GPA Metrics\\n\" +\n",
    "                          \"4. Academic Violations\\n\" +\n",
    "                          \"5. Quit Program\\n\")\n",
    "        # Catch wrong inputs\n",
    "        try:\n",
    "            selection = int(selection)  # Convert input to integer\n",
    "            if selection > 0 and selection < 6:\n",
    "                check_input = 1\n",
    "            else:\n",
    "                print(\"Invalid input. Please enter a number from 1 to 4.\\n\")\n",
    "        except ValueError:\n",
    "            print(\"Invalid input. Please enter a number from 1 to 4.\\n\")\n",
    "            \n",
    "    # The if statement is used to evaluate the user selection and act based on it\n",
    "    if selection == 1:\n",
    "        # Student Information Query\n",
    "        print(\"Student's list:\")\n",
    "        for j in range(len(student_name)):\n",
    "            print(f\"{j + 1}. {student_name[j]}: GPA = {student_gpa[j]}, Violation = {student_violation[j]}\")\n",
    "\n",
    "    elif selection == 2:\n",
    "        # Student Information Entry \n",
    "        print(\"Student Information Entry\")\n",
    "        \n",
    "        # This loop is used to evaluate the data that the user input\n",
    "        while check_input_2 == 0:\n",
    "            first_name = input(\"Enter student first name:\").capitalize()\n",
    "            last_name = input(\"Enter student Last name:\").title()\n",
    "            major = input(\"Enter student Major:\").capitalize()\n",
    "            gpa = float(input(\"Enter student GPA:\"))\n",
    "            name = first_name + \" \" + last_name\n",
    "    \n",
    "            # check user input\n",
    "            print(\"\\n\" + \"You entered:\\n\" +\n",
    "                 f\"Student name: {name}\\n\" + \n",
    "                 f\"Student major: {major}\\n\" +\n",
    "                 f\"Student GPA: {gpa}\\n\" \n",
    "                 )\n",
    "            \n",
    "            # Request user confirmation\n",
    "            confirm_input = input(\"Press 'y' to confirm that your input is right\").lower()\n",
    "            if confirm_input == \"y\" :\n",
    "                check_input_2 = 1\n",
    "                # adds new student data\n",
    "                student_name.append(name)\n",
    "                student_major.append(major)\n",
    "                student_gpa.append(gpa)\n",
    "                student_violation.append(\"None\")               \n",
    "                                \n",
    "            else: \n",
    "                print(\"Enter student data again:\\n\")\n",
    "    \n",
    "    elif selection == 3:\n",
    "        # Query GPA \n",
    "        print(\"metrics\")\n",
    "        \n",
    "    elif selection == 4:\n",
    "        # Academic Violations\n",
    "        print(\"Violations\")\n",
    "    else:\n",
    "        # Quit Program\n",
    "        completed = 1\n",
    "        \n",
    "    check_input = 0 # reset the variable\n",
    "    check_input_2 = 0\n",
    "    \n",
    "print(\"All done\")\n",
    "        \n",
    "        \n"
   ]
  },
  {
   "cell_type": "code",
   "execution_count": null,
   "id": "4760c1be-a46e-42d7-b7d8-ec082903a26e",
   "metadata": {},
   "outputs": [],
   "source": []
  }
 ],
 "metadata": {
  "kernelspec": {
   "display_name": "Python [conda env:base] *",
   "language": "python",
   "name": "conda-base-py"
  },
  "language_info": {
   "codemirror_mode": {
    "name": "ipython",
    "version": 3
   },
   "file_extension": ".py",
   "mimetype": "text/x-python",
   "name": "python",
   "nbconvert_exporter": "python",
   "pygments_lexer": "ipython3",
   "version": "3.12.7"
  }
 },
 "nbformat": 4,
 "nbformat_minor": 5
}
