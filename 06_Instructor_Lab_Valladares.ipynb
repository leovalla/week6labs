{
 "cells": [
  {
   "cell_type": "markdown",
   "id": "ac7116ef-a6a7-461a-9beb-b381b032bf1f",
   "metadata": {},
   "source": [
    "# Week 6 Instructor lab\n",
    "\n",
    "**Course Information:**  Graduate Introduction to Python, BGEN 632\n",
    "\n",
    "**Notebook Author Name:** Leo Valladares\n",
    "\n",
    "**Submission Date:**  2025/04/05\n",
    "\n",
    "**Description:** This program simulates a fortune-telling software that allows users to ask questions and receive random answers from a predetermined list."
   ]
  },
  {
   "cell_type": "markdown",
   "id": "fdd24453-ea07-49ba-a182-999669f51340",
   "metadata": {},
   "source": [
    "## Import Modules"
   ]
  },
  {
   "cell_type": "code",
   "execution_count": 38,
   "id": "cdbbf063-90ca-44b3-bcd9-fbf2d93f9dff",
   "metadata": {},
   "outputs": [],
   "source": [
    "import random as rand"
   ]
  },
  {
   "cell_type": "markdown",
   "id": "eff8cfba-deed-4536-ada5-eb93aa7fe81a",
   "metadata": {},
   "source": [
    "## Create Variables"
   ]
  },
  {
   "cell_type": "code",
   "execution_count": 25,
   "id": "c8fb3410-9d0a-4595-a3df-be13aa5762c0",
   "metadata": {},
   "outputs": [],
   "source": [
    "fortune_responses = [\n",
    "    \"It is certain\",\n",
    "    \"It is decidedly so\", \n",
    "    \"That question requires greater monetary compensation\", \n",
    "    \"Reply is hazy; try again, with more money\", \n",
    "    \"Concentrate and ask again\", \n",
    "    \"My reply is no\", \n",
    "    \"Outlook is not so good\", \n",
    "    \"Very doubtful\", \n",
    "    \"We are what we think\", \n",
    "    \"True love is born from understanding\",\n",
    "    \"Do not look for a sanctuary in anyone except yourself\"]\n",
    "\n",
    "answer = \"\"\n",
    "question = \"\"\n",
    "questions = []\n",
    "responses = []\n",
    "selection = 4\n",
    "check_input = 0\n",
    "completed = 0\n",
    "question_cost = 30"
   ]
  },
  {
   "cell_type": "markdown",
   "id": "5e1ec8f7-3f3a-4e99-852e-919b06701fc3",
   "metadata": {},
   "source": [
    "## Create Nested Loop"
   ]
  },
  {
   "cell_type": "code",
   "execution_count": 31,
   "id": "f33371d4-b4ef-454b-85e2-da4826ebc746",
   "metadata": {},
   "outputs": [
    {
     "name": "stdout",
     "output_type": "stream",
     "text": [
      "Welcome to What's Next, the app that give you a hint about your questions\n",
      "\n",
      "Thank you for using What's Next.\n",
      "\n",
      "You asked 2 questions. You owe $60 for today's services.\n",
      "\n",
      "I hope to see you soon.\n",
      "\n"
     ]
    }
   ],
   "source": [
    "print(\"Welcome to What's Next, the app that give you a hint about your questions\\n\")\n",
    "\n",
    "# this loop manages all the interaction with the user\n",
    "while completed == 0: \n",
    "\n",
    "    # This loop provides the option to the user and checks the input value\n",
    "    while check_input == 0:    \n",
    "        # The if statement checks if this is the first question\n",
    "        if len(questions) == 0:\n",
    "            selection = input(\"Please choose one option from the list below (Your input should be a number):\\n\" +\n",
    "                      \"1. Ask a question\\n\" +\n",
    "                      \"2. Review questions and responses\\n\" +\n",
    "                      \"3. Complete services and pay\\n\")\n",
    "        else:\n",
    "                selection = input(\"Please choose one option from the list below (Your input should be a number):\\n\" +\n",
    "                      \"1. Ask another question\\n\" +\n",
    "                      \"2. Review questions and responses\\n\" +\n",
    "                      \"3. Complete services and pay\\n\")\n",
    "            \n",
    "        # Catch wrong inputs\n",
    "        try:\n",
    "            selection = int(selection)  # Convert input to integer\n",
    "            if selection > 0 and selection < 4:\n",
    "                check_input = 1\n",
    "            else:\n",
    "                print(\"Invalid input. Please enter a number from 1 to 3.\\n\")\n",
    "        except ValueError:\n",
    "            print(\"Invalid input. Please enter a number from 1 to 3.\\n\")\n",
    "\n",
    "    # The if statement is used to evaluate the user selection and act based on it\n",
    "    if selection == 1: \n",
    "        question = input(\"\\n\"+\"What question you have in mind?\\n\")\n",
    "        questions.append(question)        \n",
    "        # this line \n",
    "        answer = rand.choice(fortune_responses)\n",
    "        print(answer + \"\\n\")\n",
    "        responses.append(answer)\n",
    "        \n",
    "    elif selection == 2:\n",
    "        print(\"Review of your questions and responses\")        \n",
    "        for j in range(len(questions)):\n",
    "            print(f\"Question{len(questions)}: {questions[j]}\")\n",
    "            print(f\"Response{len(questions)}: {responses[j]}\\n\")\n",
    "    else: \n",
    "        completed = 1\n",
    "\n",
    "    # resets check_input to 0 and selection to 4, to be able to ask questions again and evaluate user response\n",
    "    check_input = 0\n",
    "    selection = 4\n",
    "\n",
    "# final comments\n",
    "print(\"Thank you for using What's Next.\\n\")\n",
    "print(f\"You asked {len(questions)} questions. You owe ${len(questions) * question_cost} for today's services.\\n\")\n",
    "print(\"I hope to see you soon.\\n\")\n",
    "    "
   ]
  },
  {
   "cell_type": "markdown",
   "id": "f8887782-506f-4bc2-8598-171d8e2b816d",
   "metadata": {},
   "source": [
    "## References\n",
    "\n",
    "https://www.tutorialspoint.com/How-do-we-write-Multi-Line-Statements-in-Python  \n",
    "I use this web page to understand how to print multiple lines in one print statement  \n",
    "\n",
    "https://chatgpt.com/share/67f1a7bc-a95c-8000-ae0d-703b8260eee4  \n",
    "This chat helped to understand how to check if the user input was valid. \n"
   ]
  },
  {
   "cell_type": "code",
   "execution_count": null,
   "id": "7c8de423-17bb-4fa9-a96f-23b8ba2770f7",
   "metadata": {},
   "outputs": [],
   "source": []
  }
 ],
 "metadata": {
  "kernelspec": {
   "display_name": "Python [conda env:base] *",
   "language": "python",
   "name": "conda-base-py"
  },
  "language_info": {
   "codemirror_mode": {
    "name": "ipython",
    "version": 3
   },
   "file_extension": ".py",
   "mimetype": "text/x-python",
   "name": "python",
   "nbconvert_exporter": "python",
   "pygments_lexer": "ipython3",
   "version": "3.12.7"
  }
 },
 "nbformat": 4,
 "nbformat_minor": 5
}
